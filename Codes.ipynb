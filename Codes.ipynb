{
 "cells": [
  {
   "cell_type": "code",
   "execution_count": 2,
   "metadata": {},
   "outputs": [
    {
     "name": "stdout",
     "output_type": "stream",
     "text": [
      "Word frequency:\n",
      "the: 1\n",
      "guy: 1\n",
      "is: 1\n",
      "saying: 1\n",
      "hello: 1\n"
     ]
    }
   ],
   "source": [
    "#word frequency counter\n",
    "user = input(\"Enter a sentence: \").lower().split()\n",
    "word_counter = {}\n",
    "for word in user:\n",
    "    word_counter[word] = word_counter.get(word, 0)+1\n",
    "print(\"Word frequency:\")\n",
    "for word, count in word_counter.items():\n",
    "    print(f\"{word}: {count}\")"
   ]
  },
  {
   "cell_type": "code",
   "execution_count": 5,
   "metadata": {},
   "outputs": [
    {
     "name": "stdout",
     "output_type": "stream",
     "text": [
      "250.00 USD = 27473.02 JPY\n"
     ]
    }
   ],
   "source": [
    "#money converter\n",
    "rates = {\n",
    "    \"USD\": 1.0008,\n",
    "    \"EUR\": 0.8415,\n",
    "    \"GBP\": 0.733473,\n",
    "    \"JPY\": 109.98,\n",
    "    \"AUD\": 1.33,\n",
    "    \"CAD\": 1.26,\n",
    "    \"CHF\": 0.92,\n",
    "    \"CNY\": 6.46,\n",
    "    \"HKD\": 7.76,\n",
    "    \"NZD\": 1.39905\n",
    "}\n",
    "\n",
    "amount = float(input(\"Enter the amount: \"))\n",
    "source = input(\"Enter the source currency code (USD, EUR, GBP, JPY, AUD, CAD, CHF, CNY, HKD, NZD): \").upper()\n",
    "\n",
    "if source not in rates:\n",
    "    print(\"Invalid source currency code.\")\n",
    "else:\n",
    "    target = input(\"Enter the target currency code (USD, EUR, GBP, JPY, AUD, CAD, CHF, CNY, HKD, NZD): \").upper()\n",
    "    \n",
    "    if target not in rates:\n",
    "        print(\"Invalid source currency code.\")\n",
    "    else:\n",
    "        usd = amount/rates[source]\n",
    "        convertion = usd * rates[target]\n",
    "        print(f\"{amount:.2f} {source} = {convertion:.2f} {target}\")"
   ]
  },
  {
   "cell_type": "code",
   "execution_count": 6,
   "metadata": {},
   "outputs": [
    {
     "name": "stdout",
     "output_type": "stream",
     "text": [
      "Numbers Inputted:\n",
      " [2, 3, 4]\n",
      "[4, 27, 16]\n"
     ]
    }
   ],
   "source": [
    "#Even = Square, Odd = Cube\n",
    "list_num = [int(input(f\"Enter number {i+1}: \")) for i in range(int(input(\"Enter list size: \")))]\n",
    "print(\"Numbers Inputted:\\n\",list_num)\n",
    "mult = [num**2 if num % 2 == 0 else num**3 for num in list_num]\n",
    "print(mult)"
   ]
  },
  {
   "cell_type": "code",
   "execution_count": null,
   "metadata": {},
   "outputs": [],
   "source": []
  }
 ],
 "metadata": {
  "kernelspec": {
   "display_name": "Python 3",
   "language": "python",
   "name": "python3"
  },
  "language_info": {
   "codemirror_mode": {
    "name": "ipython",
    "version": 3
   },
   "file_extension": ".py",
   "mimetype": "text/x-python",
   "name": "python",
   "nbconvert_exporter": "python",
   "pygments_lexer": "ipython3",
   "version": "3.12.6"
  }
 },
 "nbformat": 4,
 "nbformat_minor": 2
}
