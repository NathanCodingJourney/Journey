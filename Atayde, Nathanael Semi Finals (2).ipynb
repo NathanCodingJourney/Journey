{
 "cells": [
  {
   "cell_type": "code",
   "execution_count": 91,
   "id": "6477a5f3-b374-4a0f-8744-65cd4e2969cc",
   "metadata": {},
   "outputs": [
    {
     "name": "stdin",
     "output_type": "stream",
     "text": [
      "Enter a Sentence:  The quick brown fox jumps over the lazy dog.\n"
     ]
    },
    {
     "name": "stdout",
     "output_type": "stream",
     "text": [
      "\n",
      "List of words: ['The', 'quick', 'brown', 'fox', 'jumps', 'over', 'the', 'lazy', 'dog.']\n",
      "Sorted list: ['The', 'brown', 'dog.', 'fox', 'jumps', 'lazy', 'over', 'quick', 'the']\n",
      "Word count: {'the': 2, 'quick': 1, 'brown': 1, 'fox': 1, 'jumps': 1, 'over': 1, 'lazy': 1, 'dog.': 1}\n"
     ]
    }
   ],
   "source": [
    "# Atayde Nathanael O. Semi finals\n",
    "# user input\n",
    "# list of words\n",
    "# sort the words\n",
    "# how frequent did it appeared\n",
    "\n",
    "user = input(\"Enter a Sentence: \")\n",
    "split_input = user.split()\n",
    "sorter = sorted(split_input)\n",
    "counter = {}\n",
    "\n",
    "for word in split_input:\n",
    "    word_lower = word.lower()\n",
    "    if word in counter.keys():\n",
    "        counter[word_lower] += 1\n",
    "    else:\n",
    "        counter[word_lower] = 1\n",
    "\n",
    "print(\"\")\n",
    "print(\"List of words:\", split_input)\n",
    "print(\"Sorted list:\", sorter)\n",
    "print(\"Word count:\", counter)"
   ]
  },
  {
   "cell_type": "code",
   "execution_count": null,
   "id": "2f10c98b-6c75-4650-abce-ca6bbea1ffae",
   "metadata": {},
   "outputs": [],
   "source": []
  }
 ],
 "metadata": {
  "kernelspec": {
   "display_name": "Python 3 (ipykernel)",
   "language": "python",
   "name": "python3"
  },
  "language_info": {
   "codemirror_mode": {
    "name": "ipython",
    "version": 3
   },
   "file_extension": ".py",
   "mimetype": "text/x-python",
   "name": "python",
   "nbconvert_exporter": "python",
   "pygments_lexer": "ipython3",
   "version": "3.12.4"
  }
 },
 "nbformat": 4,
 "nbformat_minor": 5
}
